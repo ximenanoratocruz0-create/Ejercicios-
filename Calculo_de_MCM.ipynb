{
  "nbformat": 4,
  "nbformat_minor": 0,
  "metadata": {
    "colab": {
      "provenance": [],
      "authorship_tag": "ABX9TyPHd5TzbiV9iXKFIXJd01+a",
      "include_colab_link": true
    },
    "kernelspec": {
      "name": "python3",
      "display_name": "Python 3"
    },
    "language_info": {
      "name": "python"
    }
  },
  "cells": [
    {
      "cell_type": "markdown",
      "metadata": {
        "id": "view-in-github",
        "colab_type": "text"
      },
      "source": [
        "<a href=\"https://colab.research.google.com/github/ximenanoratocruz0-create/Ejercicios-/blob/main/Calculo_de_MCM.ipynb\" target=\"_parent\"><img src=\"https://colab.research.google.com/assets/colab-badge.svg\" alt=\"Open In Colab\"/></a>"
      ]
    },
    {
      "cell_type": "markdown",
      "source": [
        "# Ejercicio 2: Cálculo del Máximo Común Múltiplo (MCM)\n",
        "En este ejercicio se trabaja con el cálculo del Máximo Común Múltiplo (MCM) de dos números. Se pide ingresar dos valores enteros. Luego se obtiene el Máximo Común Divisor (MCD), se aplica la formula para el calculo de MCM. El resultado final se muestra en pantallacomprobando que funcione correctamente."
      ],
      "metadata": {
        "id": "-QMXOfocDNvb"
      }
    },
    {
      "cell_type": "code",
      "execution_count": 8,
      "metadata": {
        "colab": {
          "base_uri": "https://localhost:8080/"
        },
        "id": "oJxKXZpw2ZFX",
        "outputId": "a629b7e0-6295-4426-a146-c9644338d939"
      },
      "outputs": [
        {
          "output_type": "stream",
          "name": "stdout",
          "text": [
            "ingrese el primer numero:80\n",
            "ingrese el segundo numero:62\n",
            "El MCM es: 2480\n"
          ]
        }
      ],
      "source": [
        "def gcd(x, y):\n",
        "    while y != 0:\n",
        "        r = x % y\n",
        "        x = y\n",
        "        y = r\n",
        "    return x\n",
        "\n",
        "def mcm(x, y):\n",
        "    return abs(x * y) // gcd(x, y)\n",
        "\n",
        "num1 = int(input(\"ingrese el primer numero:\"))\n",
        "num2 = int(input(\"ingrese el segundo numero:\"))\n",
        "print(\"El MCM es:\", mcm(num1, num2))"
      ]
    }
  ]
}