{
  "nbformat": 4,
  "nbformat_minor": 0,
  "metadata": {
    "colab": {
      "provenance": [],
      "authorship_tag": "ABX9TyPXgmkhH5ocovJd6JuBsiCm",
      "include_colab_link": true
    },
    "kernelspec": {
      "name": "python3",
      "display_name": "Python 3"
    },
    "language_info": {
      "name": "python"
    }
  },
  "cells": [
    {
      "cell_type": "markdown",
      "metadata": {
        "id": "view-in-github",
        "colab_type": "text"
      },
      "source": [
        "<a href=\"https://colab.research.google.com/github/ximenanoratocruz0-create/Ejercicios-/blob/main/Calculo_de_velocidad.ipynb\" target=\"_parent\"><img src=\"https://colab.research.google.com/assets/colab-badge.svg\" alt=\"Open In Colab\"/></a>"
      ]
    },
    {
      "cell_type": "markdown",
      "source": [
        "# Ejercicio 1: Cálculo de la velocidad\n",
        "Para calcular la velocidad primero debemos ingresar una distancia y un tiempo. Teniendo estos aplica la fórmula básica de la física: v = distancia / tiempo.\n",
        "De esta manera, el programa puede determinar a qué rapidez se mueve un objeto o una persona. El resultado final se muestra en pantalla."
      ],
      "metadata": {
        "id": "Bw7M7UhEhXcF"
      }
    },
    {
      "cell_type": "code",
      "execution_count": null,
      "metadata": {
        "colab": {
          "base_uri": "https://localhost:8080/"
        },
        "id": "G-TJqqocwULM",
        "outputId": "a1672d73-490d-4904-f1e3-bf8ed2dfb06a"
      },
      "outputs": [
        {
          "output_type": "stream",
          "name": "stdout",
          "text": [
            "ingrese la distancia en metros: 8\n",
            "ingrese el tiempo empleado en segundos: 56\n",
            "La velocidad es 0.14285714285714285 m/s\n"
          ]
        }
      ],
      "source": [
        "d = float(input(\"ingrese la distancia en metros: \"))\n",
        "t = float(input(\"ingrese el tiempo empleado en segundos: \"))\n",
        "v = d/t\n",
        "print (f\"La velocidad es {v} m/s\")"
      ]
    }
  ]
}